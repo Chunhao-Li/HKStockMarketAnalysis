{
 "cells": [
  {
   "cell_type": "code",
   "execution_count": 4,
   "id": "5fe71644",
   "metadata": {},
   "outputs": [],
   "source": [
    "import pandas\n",
    "import pandas_datareader.data as web\n",
    "import datetime"
   ]
  },
  {
   "cell_type": "code",
   "execution_count": 11,
   "id": "5e2beae1",
   "metadata": {},
   "outputs": [],
   "source": [
    "# stockcode = \"3639.HK\"\n",
    "stockcode = \"^HSI\"\n",
    "start = datetime.datetime(1900,7,7)\n",
    "end = datetime.datetime(2022,11,20)\n",
    "stock = web.DataReader(stockcode, \"yahoo\", start, end)"
   ]
  },
  {
   "cell_type": "code",
   "execution_count": 12,
   "id": "96b73a80",
   "metadata": {},
   "outputs": [],
   "source": [
    "file_name = stockcode + \".csv\"\n",
    "stock.to_csv(\"data/\"+file_name)"
   ]
  }
 ],
 "metadata": {
  "kernelspec": {
   "display_name": "Python 3 (ipykernel)",
   "language": "python",
   "name": "python3"
  },
  "language_info": {
   "codemirror_mode": {
    "name": "ipython",
    "version": 3
   },
   "file_extension": ".py",
   "mimetype": "text/x-python",
   "name": "python",
   "nbconvert_exporter": "python",
   "pygments_lexer": "ipython3",
   "version": "3.7.15"
  }
 },
 "nbformat": 4,
 "nbformat_minor": 5
}
